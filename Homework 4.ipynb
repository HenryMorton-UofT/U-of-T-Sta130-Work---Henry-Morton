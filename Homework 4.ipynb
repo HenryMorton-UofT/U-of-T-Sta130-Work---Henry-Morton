{
 "cells": [
  {
   "cell_type": "markdown",
   "id": "b8ae81bd",
   "metadata": {
    "slideshow": {
     "slide_type": "subslide"
    }
   },
   "source": [
    "1. Both standard deviation and standard error of the mean measure variance. The standard deviation measure the variance of individual data points in a dataset, but the standard error of the mean measures the variance of means in a sampling distribution. They can be interpreted differently too. The standard deviation is interpreted as how spread out a dataset is, while the standard error measures the accuracy of the sample mean. Standard error is also more dependent on the sample size, as an increase in sample size directly leads to a decrease in standard error of the mean."
   ]
  },
  {
   "cell_type": "markdown",
   "id": "5e32018f",
   "metadata": {},
   "source": [
    "2. First you would have to assume a normal distribution for the sample(or the central limit theorem holds, usually meaning that the samples size is at least 30). Then, to create a 95% confidence interval, we would multiply the standard error of the mean by 1.96, as that is the absolute value of the Z score to single out 95% of the data. We can then calculate the confidence interval by adding and subtracting 1.96 * SEM to the sample mean in order to gain and interval."
   ]
  },
  {
   "cell_type": "markdown",
   "id": "98429c8b",
   "metadata": {},
   "source": [
    "3. Once we have acquired a bootstrap distribution, we can use percentiles to generate a 95% confidence interval. To do this, take the 2.5 percentile and the 97.5 percentile to exclude 5% of the data. That is our confidece interval."
   ]
  },
  {
   "cell_type": "code",
   "execution_count": 1,
   "id": "5d8873e1",
   "metadata": {},
   "outputs": [
    {
     "name": "stdout",
     "output_type": "stream",
     "text": [
      "95% Bootstrap CI for the population mean: (13.222222222222221, 16.555555555555557)\n",
      "95% Bootstrap CI for the population median: (12.0, 17.024999999999977)\n"
     ]
    }
   ],
   "source": [
    "import numpy as np\n",
    "\n",
    "# Function to perform bootstrap sampling and calculate confidence interval\n",
    "def bootstrap_ci(data, num_samples=1000, ci_level=95, statistic=np.mean):\n",
    "    \"\"\"\n",
    "    Bootstrap confidence interval for any population statistic.\n",
    "\n",
    "    Parameters:\n",
    "    data (array-like): Sample data\n",
    "    num_samples (int): Number of bootstrap samples to draw\n",
    "    ci_level (float): Confidence level (default is 95%)\n",
    "    statistic (function): Function to compute the statistic of interest (default is np.mean)\n",
    "    \n",
    "    Returns:\n",
    "    tuple: Lower and upper bounds of the confidence interval\n",
    "    \"\"\"\n",
    "    \n",
    "    # This creates an array to store the bootstrap statistics\n",
    "    bootstrap_stats = []\n",
    "    \n",
    "    # This loop performs the bootstrap samling by creating bootstrap samples 1000 times.\n",
    "    for _ in range(num_samples):\n",
    "        # Creates a bootstrap sample (sample with replacement from data)\n",
    "        bootstrap_sample = np.random.choice(data, size=len(data), replace=True)\n",
    "        \n",
    "        # Calculate the statistic (mean, median, etc.) on the bootstrap sample\n",
    "        bootstrap_stat = statistic(bootstrap_sample)\n",
    "        \n",
    "        # Store the result in the array\n",
    "        bootstrap_stats.append(bootstrap_stat)\n",
    "    \n",
    "    # Sort the bootstrap statistics in the array by size of the sample mean\n",
    "    bootstrap_stats = np.sort(bootstrap_stats)\n",
    "    \n",
    "    # Calculate the lower and upper percentiles based on the confidence level\n",
    "    lower_percentile = (100 - ci_level) / 2\n",
    "    upper_percentile = 100 - lower_percentile\n",
    "    \n",
    "    # Find the values at the lower and upper percentiles\n",
    "    lower_bound = np.percentile(bootstrap_stats, lower_percentile)\n",
    "    upper_bound = np.percentile(bootstrap_stats, upper_percentile)\n",
    "    \n",
    "    return lower_bound, upper_bound\n",
    "\n",
    "# Example data\n",
    "data = np.array([12, 15, 14, 10, 18, 19, 13, 17, 16])\n",
    "\n",
    "# Calculate the 95% bootstrap confidence interval for the population mean\n",
    "ci_mean = bootstrap_ci(data, num_samples=1000, ci_level=95, statistic=np.mean)\n",
    "print(f\"95% Bootstrap CI for the population mean: {ci_mean}\")\n",
    "\n",
    "# --- To calculate the 95% bootstrap CI for another parameter (e.g., population median) ---\n",
    "# Simply change the `statistic` argument to np.median:\n",
    "ci_median = bootstrap_ci(data, num_samples=1000, ci_level=95, statistic=np.median)\n",
    "print(f\"95% Bootstrap CI for the population median: {ci_median}\")\n"
   ]
  },
  {
   "cell_type": "markdown",
   "id": "da481b1e",
   "metadata": {},
   "source": [
    "5. The population parameter represents the whole population, and tends to be unknown unless a census is conducted. A sample statistic is a value collected from a sample of the population, not the whole population. Confidence intervals provide us with an interval for the population parameter based on the sample statistic, and thus and important distinction is made."
   ]
  },
  {
   "cell_type": "markdown",
   "id": "7542e6fa",
   "metadata": {},
   "source": [
    "6(1): You use bootstrapping when you have a sample of data, and you essentially pretend that the sample is equivalent to the whole population, and then you draw loads of samples from the original sample and build a dataset of the means of that sample. You have to replace each data point you draw out the original sample to avoid just getting the original sample againt though."
   ]
  },
  {
   "cell_type": "markdown",
   "id": "06c0be53",
   "metadata": {},
   "source": [
    "6(2)The main purpose bootstrapping is to get a better idea of the uncertainty in your sample. As we just have one sample, it's hard to tell how close the sample mean is to the poputalion mean. Therefore we act as if the sample is the same as population and draw a bunch more samples, giving us more samples and sample means to see a range of possible outcomes and give you more confidence in how close your sample mean is to the population mean."
   ]
  },
  {
   "cell_type": "markdown",
   "id": "292e9d69",
   "metadata": {},
   "source": [
    "6(3) I would draw many more samples of size n with replacement from my original sample, and then use bootstrapping to get a bunch of sample means. I would then create what's known as a confidence interval with these sample means using the 2.5th and 97.5th percentile mean, and if my hypothesized mean is in there I would feel 95% confident in my hypothesis. "
   ]
  },
  {
   "cell_type": "markdown",
   "id": "d996999e",
   "metadata": {},
   "source": [
    "7: The confidence interval is an interval that covers all the possibilities for the population mean at a certain confidence level. This means that if 0 is in the confidence interval, the interval states that a possible population mean is 0, meaning in this context that the drug has had literally no effect, meaning the null hypothethis cannot be rejected. Alternatively, if 0 is not in the confidence interval, we know that the drug must have had some effect. This doesn't necessarily mean that the drug worked, it could've had a negative effect, and we are also only 95% confident that the true population mean lies in the interval."
   ]
  },
  {
   "cell_type": "markdown",
   "id": "6f29f312",
   "metadata": {},
   "source": [
    "8: We want to analyse the new vaccine created by the company AliTech using data provided by said company in order to see if the vaccine has an effect on a person's overall healthy, as AliTech claims."
   ]
  },
  {
   "cell_type": "markdown",
   "id": "1bbfe4cb",
   "metadata": {},
   "source": [
    "Below is code for boxplots to compare and contrast before and after."
   ]
  },
  {
   "cell_type": "code",
   "execution_count": 2,
   "id": "596a760a",
   "metadata": {},
   "outputs": [
    {
     "name": "stderr",
     "output_type": "stream",
     "text": [
      "/tmp/ipykernel_85/2898866200.py:24: FutureWarning: \n",
      "\n",
      "Passing `palette` without assigning `hue` is deprecated and will be removed in v0.14.0. Assign the `x` variable to `hue` and set `legend=False` for the same effect.\n",
      "\n",
      "  sns.boxplot(x=\"Gender\", y=\"InitialHealthScore\", data=df, ax=axes[0], palette=\"coolwarm\")\n",
      "/tmp/ipykernel_85/2898866200.py:28: FutureWarning: \n",
      "\n",
      "Passing `palette` without assigning `hue` is deprecated and will be removed in v0.14.0. Assign the `x` variable to `hue` and set `legend=False` for the same effect.\n",
      "\n",
      "  sns.boxplot(x=\"Gender\", y=\"FinalHealthScore\", data=df, ax=axes[1], palette=\"coolwarm\")\n"
     ]
    },
    {
     "ename": "TypeError",
     "evalue": "show() got an unexpected keyword argument 'renderer'",
     "output_type": "error",
     "traceback": [
      "\u001b[0;31m---------------------------------------------------------------------------\u001b[0m",
      "\u001b[0;31mTypeError\u001b[0m                                 Traceback (most recent call last)",
      "Cell \u001b[0;32mIn[2], line 36\u001b[0m\n\u001b[1;32m     33\u001b[0m plt\u001b[38;5;241m.\u001b[39mtight_layout()\n\u001b[1;32m     35\u001b[0m \u001b[38;5;66;03m# Show the plot\u001b[39;00m\n\u001b[0;32m---> 36\u001b[0m \u001b[43mplt\u001b[49m\u001b[38;5;241;43m.\u001b[39;49m\u001b[43mshow\u001b[49m\u001b[43m(\u001b[49m\u001b[43mrenderer\u001b[49m\u001b[38;5;241;43m=\u001b[39;49m\u001b[38;5;124;43m\"\u001b[39;49m\u001b[38;5;124;43mpng\u001b[39;49m\u001b[38;5;124;43m\"\u001b[39;49m\u001b[43m)\u001b[49m\n",
      "File \u001b[0;32m/opt/conda/lib/python3.11/site-packages/matplotlib/pyplot.py:527\u001b[0m, in \u001b[0;36mshow\u001b[0;34m(*args, **kwargs)\u001b[0m\n\u001b[1;32m    483\u001b[0m \u001b[38;5;250m\u001b[39m\u001b[38;5;124;03m\"\"\"\u001b[39;00m\n\u001b[1;32m    484\u001b[0m \u001b[38;5;124;03mDisplay all open figures.\u001b[39;00m\n\u001b[1;32m    485\u001b[0m \n\u001b[0;32m   (...)\u001b[0m\n\u001b[1;32m    524\u001b[0m \u001b[38;5;124;03mexplicitly there.\u001b[39;00m\n\u001b[1;32m    525\u001b[0m \u001b[38;5;124;03m\"\"\"\u001b[39;00m\n\u001b[1;32m    526\u001b[0m _warn_if_gui_out_of_main_thread()\n\u001b[0;32m--> 527\u001b[0m \u001b[38;5;28;01mreturn\u001b[39;00m \u001b[43m_get_backend_mod\u001b[49m\u001b[43m(\u001b[49m\u001b[43m)\u001b[49m\u001b[38;5;241;43m.\u001b[39;49m\u001b[43mshow\u001b[49m\u001b[43m(\u001b[49m\u001b[38;5;241;43m*\u001b[39;49m\u001b[43margs\u001b[49m\u001b[43m,\u001b[49m\u001b[43m \u001b[49m\u001b[38;5;241;43m*\u001b[39;49m\u001b[38;5;241;43m*\u001b[39;49m\u001b[43mkwargs\u001b[49m\u001b[43m)\u001b[49m\n",
      "\u001b[0;31mTypeError\u001b[0m: show() got an unexpected keyword argument 'renderer'"
     ]
    },
    {
     "data": {
      "image/png": "[encoded data removed]",
      "text/plain": [
       "<Figure size 1400x600 with 2 Axes>"
      ]
     },
     "metadata": {},
     "output_type": "display_data"
    }
   ],
   "source": [
    "# Import necessary libraries\n",
    "import pandas as pd\n",
    "import matplotlib.pyplot as plt\n",
    "import seaborn as sns\n",
    "\n",
    "# Create the dataframe\n",
    "data = {\n",
    "    \"PatientID\": [1, 2, 3, 4, 5, 6, 7, 8, 9, 10],\n",
    "    \"Age\": [45, 34, 29, 52, 37, 41, 33, 48, 26, 39],\n",
    "    \"Gender\": [\"M\", \"F\", \"M\", \"F\", \"M\", \"F\", \"M\", \"F\", \"M\", \"F\"],\n",
    "    \"InitialHealthScore\": [84, 78, 83, 81, 81, 80, 79, 85, 76, 83],\n",
    "    \"FinalHealthScore\": [86, 86, 80, 86, 84, 86, 86, 82, 83, 84]\n",
    "}\n",
    "\n",
    "df = pd.DataFrame(data)\n",
    "\n",
    "# Set Seaborn theme\n",
    "sns.set_theme(style=\"whitegrid\")\n",
    "\n",
    "# Create a figure and axes\n",
    "fig, axes = plt.subplots(1, 2, figsize=(14, 6))\n",
    "\n",
    "# Boxplot of Health Scores by Gender\n",
    "sns.boxplot(x=\"Gender\", y=\"InitialHealthScore\", data=df, ax=axes[0], palette=\"coolwarm\")\n",
    "axes[0].set_title(\"Initial Health Scores by Gender\")\n",
    "axes[0].set_ylabel(\"Initial Health Score\")\n",
    "\n",
    "sns.boxplot(x=\"Gender\", y=\"FinalHealthScore\", data=df, ax=axes[1], palette=\"coolwarm\")\n",
    "axes[1].set_title(\"Final Health Scores by Gender\")\n",
    "axes[1].set_ylabel(\"Final Health Score\")\n",
    "\n",
    "# Adjust layout for better spacing\n",
    "plt.tight_layout()\n",
    "\n",
    "# Show the plot\n",
    "plt.show(renderer=\"png\")\n"
   ]
  },
  {
   "cell_type": "markdown",
   "id": "86954b23",
   "metadata": {},
   "source": [
    "The above figures seem to show that for both males and females, health scores have increased. This can be seen through an increase in minimum, first quartile, median, third quartile and maximum for both genders. However, now I shall perform a more rigorous check using bootstrapping and confidence intervals. "
   ]
  },
  {
   "cell_type": "code",
   "execution_count": null,
   "id": "890dfaae",
   "metadata": {},
   "outputs": [],
   "source": [
    "\n",
    "\n",
    "# Original dataset\n",
    "data = {\n",
    "    \"PatientID\": [1, 2, 3, 4, 5, 6, 7, 8, 9, 10],\n",
    "    \"Age\": [45, 34, 29, 52, 37, 41, 33, 48, 26, 39],\n",
    "    \"Gender\": [\"M\", \"F\", \"M\", \"F\", \"M\", \"F\", \"M\", \"F\", \"M\", \"F\"],\n",
    "    \"InitialHealthScore\": [84, 78, 83, 81, 81, 80, 79, 85, 76, 83],\n",
    "    \"FinalHealthScore\": [86, 86, 80, 86, 84, 86, 86, 82, 83, 84]\n",
    "}\n",
    "\n",
    "df = pd.DataFrame(data)\n",
    "\n",
    "# Number of bootstrap samples to generate\n",
    "n_bootstrap_samples = 100\n",
    "\n",
    "# Function to generate a bootstrapped dataset\n",
    "def generate_bootstrap(df, n_samples):\n",
    "    return df.sample(n=n_samples, replace=True)\n",
    "\n",
    "# Create a list of bootstrapped datasets\n",
    "bootstrapped_datasets = [generate_bootstrap(df, len(df)) for _ in range(n_bootstrap_samples)]\n",
    "\n",
    "# Display the first bootstrapped dataset as an example\n",
    "bootstrapped_datasets[0]\n"
   ]
  },
  {
   "cell_type": "code",
   "execution_count": null,
   "id": "f9f82ff6",
   "metadata": {},
   "outputs": [],
   "source": [
    "# Import necessary libraries\n",
    "import pandas as pd\n",
    "import numpy as np\n",
    "import seaborn as sns\n",
    "import matplotlib.pyplot as plt\n",
    "\n",
    "# Original dataset\n",
    "data = {\n",
    "    \"PatientID\": [1, 2, 3, 4, 5, 6, 7, 8, 9, 10],\n",
    "    \"Age\": [45, 34, 29, 52, 37, 41, 33, 48, 26, 39],\n",
    "    \"Gender\": [\"M\", \"F\", \"M\", \"F\", \"M\", \"F\", \"M\", \"F\", \"M\", \"F\"],\n",
    "    \"InitialHealthScore\": [84, 78, 83, 81, 81, 80, 79, 85, 76, 83],\n",
    "    \"FinalHealthScore\": [86, 86, 80, 86, 84, 86, 86, 82, 83, 84]\n",
    "}\n",
    "\n",
    "df = pd.DataFrame(data)\n",
    "\n",
    "# Number of bootstrap samples to generate\n",
    "n_bootstrap_samples = 1000\n",
    "\n",
    "# Function to generate a bootstrapped dataset\n",
    "def generate_bootstrap(df, n_samples):\n",
    "    return df.sample(n=n_samples, replace=True)\n",
    "\n",
    "# Generate a list of bootstrapped datasets\n",
    "bootstrapped_datasets = [generate_bootstrap(df, len(df)) for _ in range(n_bootstrap_samples)]\n",
    "\n",
    "# Calculate the mean of FinalHealthScore for each bootstrapped dataset\n",
    "bootstrap_means = [dataset[\"FinalHealthScore\"].mean() for dataset in bootstrapped_datasets]\n",
    "\n",
    "# Calculate the mean of the bootstrapped sample means\n",
    "bootstrap_mean = np.mean(bootstrap_means)\n",
    "\n",
    "# Calculate the 95% confidence interval (2.5th and 97.5th percentiles)\n",
    "ci_lower = np.percentile(bootstrap_means, 2.5)\n",
    "ci_upper = np.percentile(bootstrap_means, 97.5)\n",
    "\n",
    "# Print the results\n",
    "print(f\"Bootstrap Mean: {bootstrap_mean:.2f}\")\n",
    "print(f\"95% Confidence Interval: ({ci_lower:.2f}, {ci_upper:.2f})\")\n",
    "\n",
    "# Create a plot to visualize the distribution of the bootstrapped means and the confidence interval\n",
    "plt.figure(figsize=(10, 6))\n",
    "sns.histplot(bootstrap_means, kde=True, color='blue')\n",
    "plt.axvline(ci_lower, color='red', linestyle='--', label=f'95% CI Lower ({ci_lower:.2f})')\n",
    "plt.axvline(ci_upper, color='green', linestyle='--', label=f'95% CI Upper ({ci_upper:.2f})')\n",
    "plt.axvline(bootstrap_mean, color='black', linestyle='-', label=f'Mean ({bootstrap_mean:.2f})')\n",
    "plt.title(\"Distribution of Bootstrapped Means with 95% Confidence Interval\")\n",
    "plt.xlabel(\"Mean Final Health Score\")\n",
    "plt.ylabel(\"Frequency\")\n",
    "plt.legend()\n",
    "\n",
    "# Show the plot\n",
    "plt.show(renderer=\"png\")\n"
   ]
  },
  {
   "cell_type": "markdown",
   "id": "0ab6af57",
   "metadata": {},
   "source": [
    "The initial mean healthscore is 81.0. This means that the null hypothesis is that the final mean health score is 81.0. Therefore if the confidence interval does not include 81.0(every simulation I ran the CI did not include 81), we feel that we have enough evidence to reject the null hypothethis. We are 95% confident that the drug did have an effect on the mean health score of the patients. "
   ]
  },
  {
   "cell_type": "markdown",
   "id": "07b7a3dd",
   "metadata": {},
   "source": [
    "9: Yes"
   ]
  },
  {
   "cell_type": "markdown",
   "id": "4d4e6884",
   "metadata": {},
   "source": [
    "Chatbot Links:https://chatgpt.com/share/66ff3afb-0ed0-8010-973e-aafd0b759e2e\n",
    "In this conversation, you provided a dataset related to health scores for patients who received AliTech's vaccine, and we worked through several tasks:\n",
    "Visualization of Health Scores by Gender: We created boxplots to compare initial and final health scores between male and female patients.\n",
    "Bootstrapping: You requested code to generate a bootstrapped dataset, and I provided a Python function to generate 1000 bootstrapped samples from the original data.\n",
    "Visualization of Bootstrapped Means: We calculated the means of the bootstrapped datasets and visualized the distribution of those means.\n",
    "Confidence Interval: I provided code to calculate the 95% confidence interval for the bootstrapped means and displayed it visually.\n",
    "Initial Average Health Score: We calculated the initial average health score across all patients, which was 81.0.\n"
   ]
  },
  {
   "cell_type": "markdown",
   "id": "ce60cae1",
   "metadata": {},
   "source": [
    "https://chatgpt.com/share/66ff3c98-6db0-8010-ae01-218500c5206e\n",
    "We discussed the distinction between the standard error of the mean (SEM) and the standard deviation (SD), highlighting that SD measures the variability of data, while SEM reflects the accuracy of the sample mean as an estimate of the population mean. We then explored how to create a 95% confidence interval (CI) using SEM and why 1.96 is used (due to the properties of the normal distribution).\n",
    "\n",
    "You asked how to create a 95% bootstrapped CI without using the SEM, and I explained the method involving bootstrapped sample means and percentiles. I provided Python code for generating a 95% bootstrap CI for the population mean and noted how to modify it to compute CIs for other parameters, such as the median.\n",
    "\n",
    "Finally, we discussed why it's crucial to distinguish between the population parameter and the sample statistic when constructing confidence intervals, emphasizing that CIs are designed to estimate the population parameter based on the sample statistic, while accounting for sampling variability."
   ]
  }
 ],
 "metadata": {
  "kernelspec": {
   "display_name": "Python 3 (ipykernel)",
   "language": "python",
   "name": "python3"
  },
  "language_info": {
   "codemirror_mode": {
    "name": "ipython",
    "version": 3
   },
   "file_extension": ".py",
   "mimetype": "text/x-python",
   "name": "python",
   "nbconvert_exporter": "python",
   "pygments_lexer": "ipython3",
   "version": "3.11.6"
  }
 },
 "nbformat": 4,
 "nbformat_minor": 5
}
